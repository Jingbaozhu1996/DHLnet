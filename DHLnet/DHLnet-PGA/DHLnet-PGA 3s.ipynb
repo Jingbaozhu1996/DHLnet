{
 "cells": [
  {
   "cell_type": "code",
   "execution_count": 1,
   "metadata": {},
   "outputs": [
    {
     "data": {
      "text/plain": [
       "[]"
      ]
     },
     "execution_count": 1,
     "metadata": {},
     "output_type": "execute_result"
    }
   ],
   "source": [
    "import numpy as np\n",
    "import pandas as pd\n",
    "from datetime import date, timedelta\n",
    "import os\n",
    "import random\n",
    "import matplotlib.pyplot as plt\n",
    "from tqdm import tqdm\n",
    "from scipy.stats import skew, kurtosis\n",
    "\n",
    "from sklearn.preprocessing import StandardScaler\n",
    "from sklearn.metrics import mean_squared_error\n",
    "from tensorflow.keras import layers,Sequential,losses,optimizers,datasets\n",
    "\n",
    "import tensorflow as tf\n",
    "from tensorflow import keras\n",
    "from tensorflow.keras.layers import *\n",
    "from tensorflow.keras.models import *\n",
    "from tensorflow.keras.optimizers import *\n",
    "from tensorflow.keras.callbacks import *\n",
    "from tensorflow.keras import backend as K\n",
    "\n",
    "os.environ[\"CUDA_VISIBLE_DEVICES\"] = \"1\"\n",
    "tf.config.list_physical_devices('GPU')"
   ]
  },
  {
   "cell_type": "code",
   "execution_count": 2,
   "metadata": {},
   "outputs": [],
   "source": [
    "import tensorflow as tf\n",
    "\n",
    "class CorrelationLayer(tf.keras.layers.Layer):\n",
    "    def __init__(self):\n",
    "        super(CorrelationLayer, self).__init__()\n",
    "\n",
    "    def call(self, x):\n",
    "        # Compute mean and standard deviation for each batch and node\n",
    "        mean = tf.reduce_mean(x, axis=1, keepdims=True)\n",
    "        std = tf.math.reduce_std(x, axis=1, keepdims=True)\n",
    "\n",
    "        # Compute centered inputs\n",
    "        x_centered = x - mean\n",
    "\n",
    "        # Compute covariance matrix for each batch and node\n",
    "        covariance_matrix = tf.matmul(x_centered, x_centered, transpose_b=True)\n",
    "\n",
    "        # Compute correlation matrix using covariance matrix and standard deviation\n",
    "        correlation_matrix = tf.divide(covariance_matrix, tf.matmul(std, std, transpose_b=True))\n",
    "\n",
    "        # Compute Laplacian transformation of correlation matrix\n",
    "        laplacian_transform = self.localpooling_filter(correlation_matrix)\n",
    "\n",
    "        return laplacian_transform\n",
    "\n",
    "    def localpooling_filter(self, matrix):\n",
    "        # Compute diagonal degree matrix\n",
    "        degree_matrix = tf.linalg.diag(tf.reduce_sum(matrix, axis=1))\n",
    "\n",
    "        # Compute graph Laplacian\n",
    "        laplacian_matrix = degree_matrix - matrix\n",
    "\n",
    "        # Compute Laplacian eigenvectors and eigenvalues\n",
    "        eigenvalues, eigenvectors = tf.linalg.eigh(laplacian_matrix)\n",
    "\n",
    "        # Compute Laplacian Fourier Transform\n",
    "        laplacian_transform = tf.matmul(eigenvectors, tf.matmul(tf.linalg.diag(eigenvalues), eigenvectors, adjoint_b=True))\n",
    "\n",
    "        return laplacian_transform\n",
    "\n"
   ]
  },
  {
   "cell_type": "code",
   "execution_count": 3,
   "metadata": {},
   "outputs": [],
   "source": [
    "### IMPORT SPEKTRAL CLASSES ###\n",
    "\n",
    "from spektral_utilities import *\n",
    "from spektral_gcn import GraphConv"
   ]
  },
  {
   "cell_type": "code",
   "execution_count": 4,
   "metadata": {},
   "outputs": [],
   "source": [
    "import scipy.io as scio\n",
    "import pandas as pd\n",
    "\n",
    "#input\n",
    "feature1 = r'\\Traning and Test\\ACC_EW.mat'\n",
    "data1 = scio.loadmat(feature1)\n",
    "AA=data1['ACC_EW']\n",
    "A=AA[:,0:300]\n",
    "\n",
    "feature2 = r'\\Traning and Test\\ACC_NS.mat'\n",
    "data2 = scio.loadmat(feature2)\n",
    "BB=data2['ACC_NS']\n",
    "B=BB[:,0:300]\n",
    "\n",
    "feature3 = r'\\Traning and Test\\ACC_UD.mat'\n",
    "data3 = scio.loadmat(feature3)\n",
    "CC=data3['ACC_UD']\n",
    "C=CC[:,0:300]\n",
    "\n",
    "feature4 = r'\\Traning and Test\\DIS_EW.mat'\n",
    "data4 = scio.loadmat(feature4)\n",
    "DD=data4['DIS_EW']\n",
    "D=DD[:,0:300]\n",
    "\n",
    "feature5 = r'\\Traning and Test\\DIS_NS.mat'\n",
    "data5 = scio.loadmat(feature5)\n",
    "EE=data5['DIS_NS']\n",
    "E=EE[:,0:300]\n",
    "\n",
    "feature6 = r'\\Traning and Test\\DIS_UD.mat'\n",
    "data6 = scio.loadmat(feature6)\n",
    "FF=data6['DIS_UD']\n",
    "F=FF[:,0:300]\n",
    "\n",
    "feature7 = r'\\Traning and Test\\VEL_EW.mat'\n",
    "data7 = scio.loadmat(feature7)\n",
    "GG=data7['VEL_EW']\n",
    "G=GG[:,0:300]\n",
    "\n",
    "feature8 = r'\\Traning and Test\\VEL_NS.mat'\n",
    "data8 = scio.loadmat(feature8)\n",
    "HH=data8['VEL_NS']\n",
    "H=HH[:,0:300]\n",
    "\n",
    "feature9 = r'\\Traning and Test\\VEL_UD.mat'\n",
    "data9 = scio.loadmat(feature9)\n",
    "II=data9['VEL_UD']\n",
    "I=II[:,0:300]\n",
    "\n",
    "\n",
    "label = pd.read_csv(open(r'\\KnowledgeBase\\PGA\\Features3s.csv',encoding='UTF-8'))"
   ]
  },
  {
   "cell_type": "code",
   "execution_count": 5,
   "metadata": {},
   "outputs": [
    {
     "name": "stdout",
     "output_type": "stream",
     "text": [
      "(18067, 2700)\n",
      "[-3.11349585 -1.6162357   0.39636245 -3.59711571  0.41005487 -2.31752914\n",
      "  2.41110903  0.37864947 -0.95081472  1.30721834  0.6623701 ]\n",
      "(18067, 11)\n"
     ]
    }
   ],
   "source": [
    "raw_data1=np.hstack((A,B))\n",
    "raw_data2=np.hstack((raw_data1,C))\n",
    "raw_data3=np.hstack((raw_data2,D))\n",
    "raw_data4=np.hstack((raw_data3,E))\n",
    "raw_data5=np.hstack((raw_data4,F))\n",
    "raw_data6=np.hstack((raw_data5,G))\n",
    "raw_data7=np.hstack((raw_data6,H))\n",
    "x_data=np.hstack((raw_data7,I))\n",
    "\n",
    "print(x_data.shape)\n",
    "\n",
    "\n",
    "y_data=label.iloc[:,[0,1,2,3,4,5,6,7,8,9,10]].values  #知识嵌入\n",
    "#y_data=label.iloc[:,[12]].values    #导入数据  iloc通过行号获取行数据\n",
    "print(y_data[0])\n",
    "print(y_data.shape)"
   ]
  },
  {
   "cell_type": "code",
   "execution_count": 6,
   "metadata": {},
   "outputs": [],
   "source": [
    "#训练测试集\n",
    "#x_data_train_test=x_data[0:23432]\n",
    "#y_data_train_test=y_data[0:23432]\n",
    "#print(x_data_train_test.shape)\n",
    "#print(y_data_train_test.shape)\n",
    "#震例\n",
    "#x_data_zhenli=x_data[23432:27361]\n",
    "#y_data_zhenli=y_data[23432:27361]\n",
    "#print(x_data_zhenli.shape)\n",
    "#print(y_data_zhenli.shape)\n"
   ]
  },
  {
   "cell_type": "code",
   "execution_count": 7,
   "metadata": {},
   "outputs": [],
   "source": [
    "from sklearn.model_selection import train_test_split  #random_state=21  24  26  27  65\n",
    "train_xx, test_xx, train_y1, test_y1 = train_test_split(x_data, y_data, test_size=0.2, random_state=30)\n",
    "#print(train_xx.shape)   30 17.14  0.59\n",
    "#print(test_xx.shape)"
   ]
  },
  {
   "cell_type": "code",
   "execution_count": 8,
   "metadata": {},
   "outputs": [
    {
     "name": "stdout",
     "output_type": "stream",
     "text": [
      "(14453, 1)\n",
      "[0.81624302]\n",
      "(14453, 10)\n",
      "[-2.86703925 -1.73043704  0.12188288 -2.9644417   0.31890487 -2.30641678\n",
      "  2.32117888  0.52351466 -0.73253894  1.30850344]\n",
      "(3614, 1)\n",
      "[0.97405023]\n",
      "(3614, 10)\n",
      "[-1.92127329 -1.0170204   0.6673474  -1.37351168  0.84724132 -1.34134927\n",
      "  2.84883262  1.36126256  0.32020884  1.08595852]\n"
     ]
    }
   ],
   "source": [
    "train_y=train_y1[:,[10]]\n",
    "train_physics=train_y1[:,[0,1,2,3,4,5,6,7,8,9]]\n",
    "print(train_y.shape)\n",
    "print(train_y[0])\n",
    "\n",
    "print(train_physics.shape)\n",
    "print(train_physics[0])\n",
    "\n",
    "\n",
    "\n",
    "test_y=test_y1[:,[10]]\n",
    "test_physics=test_y1[:,[0,1,2,3,4,5,6,7,8,9]]\n",
    "print(test_y.shape)\n",
    "print(test_y[0])\n",
    "\n",
    "print(test_physics.shape)\n",
    "print(test_physics[0])"
   ]
  },
  {
   "cell_type": "code",
   "execution_count": 9,
   "metadata": {},
   "outputs": [],
   "source": [
    "train_x=[]\n",
    "for i in range(len(train_xx)):\n",
    "    train_x.append(np.array(train_xx[i].reshape(9,1,300)).T)"
   ]
  },
  {
   "cell_type": "code",
   "execution_count": 10,
   "metadata": {},
   "outputs": [],
   "source": [
    "test_x=[]\n",
    "for i in range(len(test_xx)):\n",
    "    test_x.append(np.array(test_xx[i].reshape(9,1,300)).T)"
   ]
  },
  {
   "cell_type": "code",
   "execution_count": 11,
   "metadata": {},
   "outputs": [],
   "source": [
    "train_x=np.array(train_x)\n",
    "test_x=np.array(test_x)"
   ]
  },
  {
   "cell_type": "code",
   "execution_count": 12,
   "metadata": {},
   "outputs": [
    {
     "name": "stdout",
     "output_type": "stream",
     "text": [
      "0 14453\n",
      "1 300\n",
      "(14453, 300, 9)\n"
     ]
    }
   ],
   "source": [
    "#3#  ##Reshaping\n",
    "train_x = np.reshape(train_x, (train_x.shape[0], 300, 9))\n",
    "test_x = np.reshape(test_x, (test_x.shape[0], 300, 9))\n",
    "print(\"0\",train_x.shape[0])\n",
    "print(\"1\",train_x.shape[1])\n",
    "print(train_x.shape)\n",
    "#print(train_x)"
   ]
  },
  {
   "cell_type": "code",
   "execution_count": 13,
   "metadata": {},
   "outputs": [],
   "source": [
    "from keras import backend as K\n",
    "from keras.engine.topology import Layer\n",
    "class Self_Attention(Layer):\n",
    " \n",
    "    def __init__(self, output_dim, **kwargs):\n",
    "        self.output_dim = output_dim\n",
    "        super(Self_Attention, self).__init__(**kwargs)\n",
    " \n",
    "    def build(self, input_shape):\n",
    "        # 为该层创建一个可训练的权重\n",
    "        #inputs.shape = (batch_size, time_steps, seq_len)\n",
    "        self.kernel = self.add_weight(name='kernel',\n",
    "                                      shape=(3,input_shape[2], self.output_dim),\n",
    "                                      initializer='uniform',\n",
    "                                      trainable=True)\n",
    " \n",
    "        super(Self_Attention, self).build(input_shape)  # 一定要在最后调用它\n",
    " \n",
    "    def call(self, x):\n",
    "        WQ = K.dot(x, self.kernel[0])\n",
    "        WK = K.dot(x, self.kernel[1])\n",
    "        WV = K.dot(x, self.kernel[2])\n",
    " \n",
    "        print(\"WQ.shape\",WQ.shape)\n",
    " \n",
    "        print(\"K.permute_dimensions(WK, [0, 2, 1]).shape\",K.permute_dimensions(WK, [0, 2, 1]).shape)\n",
    " \n",
    " \n",
    "        QK = K.batch_dot(WQ,K.permute_dimensions(WK, [0, 2, 1]))\n",
    " \n",
    "        QK = QK / (64**0.5)\n",
    " \n",
    "        QK = K.softmax(QK)\n",
    " \n",
    "        print(\"QK.shape\",QK.shape)\n",
    " \n",
    "        V = K.batch_dot(QK,WV)\n",
    " \n",
    "        return V\n",
    " \n",
    "    def compute_output_shape(self, input_shape):\n",
    " \n",
    "        return (input_shape[0],input_shape[1],self.output_dim)\n",
    "\n",
    "    def get_config(self):  #在有自定义网络层时，需要保存模型时，重写get_config函数\n",
    "        config = {\"output_dim\": self.output_dim}\n",
    "        base_config = super(Self_Attention, self).get_config()\n",
    "        return dict(list(base_config.items()) + list(config.items()))"
   ]
  },
  {
   "cell_type": "code",
   "execution_count": 14,
   "metadata": {},
   "outputs": [
    {
     "name": "stdout",
     "output_type": "stream",
     "text": [
      "300\n"
     ]
    }
   ],
   "source": [
    "print(train_x.shape[1])"
   ]
  },
  {
   "cell_type": "code",
   "execution_count": 15,
   "metadata": {},
   "outputs": [],
   "source": [
    "seed=50\n",
    "#50 17.20 1.32\n",
    "\n",
    "def get_model():\n",
    "\n",
    "    #opt = Adam(lr=0.001)\n",
    "\n",
    "    #inp_seq = tf.keras.layers.Input((sequence_length, 10))  #sequence_length = 14; 表示输入的序列长度是14; 14*10\n",
    "#    inp_lap = tf.keras.layers.Input((9, 9))  #输入的领接矩阵 10表示节点数\n",
    "    \n",
    "    inp = tf.keras.layers.Input((300,9))  #如果我用CNN提取特征？？  \n",
    "\n",
    "    feat = tf.keras.layers.Conv1D(32,kernel_size=4,strides=2,    #   32  15.76 0.65  33.68 0.302\n",
    "                  kernel_initializer=keras.initializers.he_normal(seed=seed),\\\n",
    "                  bias_initializer=keras.initializers.he_normal(seed=seed),\\\n",
    "                  input_shape = (300,9),padding=\"same\")(inp)\n",
    "    feat = tf.keras.layers.ReLU()(feat)\n",
    "    feat = tf.keras.layers.BatchNormalization()(feat) \n",
    "    feat = tf.keras.layers.MaxPooling1D(pool_size=2,strides=2,padding=\"same\")(feat)\n",
    "    feat = tf.keras.layers.Dropout(rate=0.2)(feat)  # \n",
    "    \n",
    "    \n",
    "    feat = tf.keras.layers.Conv1D(64,kernel_size=4,strides=2,   # 32  \n",
    "                  kernel_initializer=keras.initializers.he_normal(seed=seed),\\\n",
    "                  bias_initializer=keras.initializers.he_normal(seed=seed),\\\n",
    "                  padding=\"same\")(feat) \n",
    "    feat = tf.keras.layers.ReLU()(feat)\n",
    "    feat = tf.keras.layers.BatchNormalization()(feat) \n",
    "    feat = tf.keras.layers.MaxPooling1D(pool_size=2,strides=2,padding=\"same\")(feat) # 高宽各减半的池化层\n",
    "    feat = tf.keras.layers.Dropout(rate=0.2)(feat)  # \n",
    "    \n",
    "    feat = tf.keras.layers.Conv1D(128,kernel_size=4,strides=2,   # 32  \n",
    "                  kernel_initializer=keras.initializers.he_normal(seed=seed),\\\n",
    "                  bias_initializer=keras.initializers.he_normal(seed=seed),\\\n",
    "                  padding=\"same\")(feat) \n",
    "    feat = tf.keras.layers.ReLU()(feat)\n",
    "    feat = tf.keras.layers.BatchNormalization()(feat) \n",
    "    feat = tf.keras.layers.MaxPooling1D(pool_size=2,strides=2,padding=\"same\")(feat) # 高宽各减半的池化层\n",
    "    feat = tf.keras.layers.Dropout(rate=0.2)(feat)  #     \n",
    "\n",
    "\n",
    "    \n",
    "    cor1 = CorrelationLayer()(feat)  #\n",
    "    x = GraphConv(64, activation='relu',kernel_initializer=tf.keras.initializers.he_normal(seed=seed))([feat, cor1]) #包含了节点特征\n",
    "\n",
    "    cor2 = CorrelationLayer()(x)    \n",
    "    x = GraphConv(32, activation='relu',kernel_initializer=tf.keras.initializers.he_normal(seed=seed))([x, cor2]) #包含了节点特征\n",
    "\n",
    "\n",
    "    \n",
    "\n",
    "\n",
    "    x = Self_Attention(4)(x) # 4\n",
    "    x = Flatten()(x)\n",
    "        \n",
    "    \n",
    "    inpt2 = tf.keras.layers.Input(shape=(10,))   #加入场地放大系数\n",
    "    conc = tf.keras.layers.Concatenate()([x,inpt2]) \n",
    "\n",
    "\n",
    "    \n",
    "    x = Dense(256, activation='relu')(conc)\n",
    "    x = Dense(128, activation='relu')(x)   \n",
    "    x = Dense(64, activation='relu')(x) #64\n",
    "    x = Dense(50, activation='relu')(x)  #50  正在调整\n",
    "    x = Dense(30, activation='relu')(x) #30\n",
    "\n",
    "\n",
    "    out = Dense(1)(x)\n",
    "\n",
    "    #model = Model([inp_seq, inp_lap, inp_feat], out)  ,inpt2\n",
    "    rms = optimizers.Adam(lr=0.001, beta_1=0.9, beta_2=0.999, epsilon=1e-08)\n",
    "    model = Model([inp,inpt2], out)\n",
    "    model.compile(optimizer = rms, loss = 'mean_squared_error')\n",
    "\n",
    "    return model"
   ]
  },
  {
   "cell_type": "code",
   "execution_count": 16,
   "metadata": {},
   "outputs": [
    {
     "name": "stdout",
     "output_type": "stream",
     "text": [
      "WQ.shape (None, 5, 4)\n",
      "K.permute_dimensions(WK, [0, 2, 1]).shape (None, 4, 5)\n",
      "QK.shape (None, 5, 5)\n",
      "Model: \"functional_1\"\n",
      "__________________________________________________________________________________________________\n",
      "Layer (type)                    Output Shape         Param #     Connected to                     \n",
      "==================================================================================================\n",
      "input_1 (InputLayer)            [(None, 300, 9)]     0                                            \n",
      "__________________________________________________________________________________________________\n",
      "conv1d (Conv1D)                 (None, 150, 32)      1184        input_1[0][0]                    \n",
      "__________________________________________________________________________________________________\n",
      "re_lu (ReLU)                    (None, 150, 32)      0           conv1d[0][0]                     \n",
      "__________________________________________________________________________________________________\n",
      "batch_normalization (BatchNorma (None, 150, 32)      128         re_lu[0][0]                      \n",
      "__________________________________________________________________________________________________\n",
      "max_pooling1d (MaxPooling1D)    (None, 75, 32)       0           batch_normalization[0][0]        \n",
      "__________________________________________________________________________________________________\n",
      "dropout (Dropout)               (None, 75, 32)       0           max_pooling1d[0][0]              \n",
      "__________________________________________________________________________________________________\n",
      "conv1d_1 (Conv1D)               (None, 38, 64)       8256        dropout[0][0]                    \n",
      "__________________________________________________________________________________________________\n",
      "re_lu_1 (ReLU)                  (None, 38, 64)       0           conv1d_1[0][0]                   \n",
      "__________________________________________________________________________________________________\n",
      "batch_normalization_1 (BatchNor (None, 38, 64)       256         re_lu_1[0][0]                    \n",
      "__________________________________________________________________________________________________\n",
      "max_pooling1d_1 (MaxPooling1D)  (None, 19, 64)       0           batch_normalization_1[0][0]      \n",
      "__________________________________________________________________________________________________\n",
      "dropout_1 (Dropout)             (None, 19, 64)       0           max_pooling1d_1[0][0]            \n",
      "__________________________________________________________________________________________________\n",
      "conv1d_2 (Conv1D)               (None, 10, 128)      32896       dropout_1[0][0]                  \n",
      "__________________________________________________________________________________________________\n",
      "re_lu_2 (ReLU)                  (None, 10, 128)      0           conv1d_2[0][0]                   \n",
      "__________________________________________________________________________________________________\n",
      "batch_normalization_2 (BatchNor (None, 10, 128)      512         re_lu_2[0][0]                    \n",
      "__________________________________________________________________________________________________\n",
      "max_pooling1d_2 (MaxPooling1D)  (None, 5, 128)       0           batch_normalization_2[0][0]      \n",
      "__________________________________________________________________________________________________\n",
      "dropout_2 (Dropout)             (None, 5, 128)       0           max_pooling1d_2[0][0]            \n",
      "__________________________________________________________________________________________________\n",
      "correlation_layer (CorrelationL (None, 5, 5)         0           dropout_2[0][0]                  \n",
      "__________________________________________________________________________________________________\n",
      "graph_conv (GraphConv)          (None, 5, 64)        8256        dropout_2[0][0]                  \n",
      "                                                                 correlation_layer[0][0]          \n",
      "__________________________________________________________________________________________________\n",
      "correlation_layer_1 (Correlatio (None, 5, 5)         0           graph_conv[0][0]                 \n",
      "__________________________________________________________________________________________________\n",
      "graph_conv_1 (GraphConv)        (None, 5, 32)        2080        graph_conv[0][0]                 \n",
      "                                                                 correlation_layer_1[0][0]        \n",
      "__________________________________________________________________________________________________\n",
      "self__attention (Self_Attention (None, 5, 4)         384         graph_conv_1[0][0]               \n",
      "__________________________________________________________________________________________________\n",
      "flatten (Flatten)               (None, 20)           0           self__attention[0][0]            \n",
      "__________________________________________________________________________________________________\n",
      "input_2 (InputLayer)            [(None, 10)]         0                                            \n",
      "__________________________________________________________________________________________________\n",
      "concatenate (Concatenate)       (None, 30)           0           flatten[0][0]                    \n",
      "                                                                 input_2[0][0]                    \n",
      "__________________________________________________________________________________________________\n",
      "dense (Dense)                   (None, 256)          7936        concatenate[0][0]                \n",
      "__________________________________________________________________________________________________\n",
      "dense_1 (Dense)                 (None, 128)          32896       dense[0][0]                      \n",
      "__________________________________________________________________________________________________\n",
      "dense_2 (Dense)                 (None, 64)           8256        dense_1[0][0]                    \n",
      "__________________________________________________________________________________________________\n",
      "dense_3 (Dense)                 (None, 50)           3250        dense_2[0][0]                    \n",
      "__________________________________________________________________________________________________\n",
      "dense_4 (Dense)                 (None, 30)           1530        dense_3[0][0]                    \n",
      "__________________________________________________________________________________________________\n",
      "dense_5 (Dense)                 (None, 1)            31          dense_4[0][0]                    \n",
      "==================================================================================================\n",
      "Total params: 107,851\n",
      "Trainable params: 107,403\n",
      "Non-trainable params: 448\n",
      "__________________________________________________________________________________________________\n"
     ]
    }
   ],
   "source": [
    "model = get_model()\n",
    "model.summary() "
   ]
  },
  {
   "cell_type": "code",
   "execution_count": 17,
   "metadata": {},
   "outputs": [],
   "source": [
    "### TRAIN A MODEL FOR EACH STORES USING ALL THE DATA AVAILALBE FROM OTHER STORES ###\n",
    "\n",
    "\n",
    "tf.random.set_seed(seed)\n",
    "os.environ['PYTHONHASHSEED'] = str(33)\n",
    "np.random.seed(seed)\n",
    "random.seed(seed)\n",
    "\n",
    "session_conf = tf.compat.v1.ConfigProto(\n",
    "    intra_op_parallelism_threads=1, \n",
    "    inter_op_parallelism_threads=1\n",
    ")\n",
    "sess = tf.compat.v1.Session(\n",
    "    graph=tf.compat.v1.get_default_graph(), \n",
    "    config=session_conf\n",
    ")\n",
    "tf.compat.v1.keras.backend.set_session(sess)\n",
    "\n",
    "pred_train_all=np.zeros(train_y.shape)\n",
    "pred_test_all = np.zeros(test_y.shape)\n",
    "#pred_zhenli_all = np.zeros(y_zhenli.shape)\n",
    "\n",
    "    \n",
    "#es = EarlyStopping(patience=10, verbose=1, min_delta=0.001, monitor='val_loss', mode='auto', restore_best_weights=True)\n"
   ]
  },
  {
   "cell_type": "code",
   "execution_count": 18,
   "metadata": {},
   "outputs": [
    {
     "name": "stdout",
     "output_type": "stream",
     "text": [
      "WQ.shape (None, 5, 4)\n",
      "K.permute_dimensions(WK, [0, 2, 1]).shape (None, 4, 5)\n",
      "QK.shape (None, 5, 5)\n",
      "Epoch 1/300\n",
      "WQ.shape (None, 5, 4)\n",
      "K.permute_dimensions(WK, [0, 2, 1]).shape (None, 4, 5)\n",
      "QK.shape (None, 5, 5)\n",
      "WQ.shape (None, 5, 4)\n",
      "K.permute_dimensions(WK, [0, 2, 1]).shape (None, 4, 5)\n",
      "QK.shape (None, 5, 5)\n",
      "51/51 [==============================] - ETA: 0s - loss: 0.2014WQ.shape (None, 5, 4)\n",
      "K.permute_dimensions(WK, [0, 2, 1]).shape (None, 4, 5)\n",
      "QK.shape (None, 5, 5)\n",
      "51/51 [==============================] - 7s 135ms/step - loss: 0.2014 - val_loss: 0.0725\n",
      "Epoch 2/300\n",
      "51/51 [==============================] - 7s 129ms/step - loss: 0.0610 - val_loss: 0.0556\n",
      "Epoch 3/300\n",
      "51/51 [==============================] - 6s 120ms/step - loss: 0.0582 - val_loss: 0.0550\n",
      "Epoch 4/300\n",
      "51/51 [==============================] - 6s 120ms/step - loss: 0.0557 - val_loss: 0.0546\n",
      "Epoch 5/300\n",
      "51/51 [==============================] - 7s 135ms/step - loss: 0.0550 - val_loss: 0.0546\n",
      "Epoch 6/300\n",
      "51/51 [==============================] - 6s 116ms/step - loss: 0.0549 - val_loss: 0.0532\n",
      "Epoch 7/300\n",
      "51/51 [==============================] - 6s 115ms/step - loss: 0.0540 - val_loss: 0.0535\n",
      "Epoch 8/300\n",
      "51/51 [==============================] - 5s 108ms/step - loss: 0.0534 - val_loss: 0.0527\n",
      "Epoch 9/300\n",
      "51/51 [==============================] - 5s 107ms/step - loss: 0.0530 - val_loss: 0.0530\n",
      "Epoch 10/300\n",
      "51/51 [==============================] - 6s 108ms/step - loss: 0.0529 - val_loss: 0.0534\n",
      "Epoch 11/300\n",
      "51/51 [==============================] - 5s 107ms/step - loss: 0.0527 - val_loss: 0.0528\n",
      "Epoch 12/300\n",
      "51/51 [==============================] - 6s 108ms/step - loss: 0.0525 - val_loss: 0.0523\n",
      "Epoch 13/300\n",
      "51/51 [==============================] - 5s 107ms/step - loss: 0.0522 - val_loss: 0.0536\n",
      "Epoch 14/300\n",
      "51/51 [==============================] - 5s 108ms/step - loss: 0.0532 - val_loss: 0.0518\n",
      "Epoch 15/300\n",
      "51/51 [==============================] - 5s 107ms/step - loss: 0.0519 - val_loss: 0.0562\n",
      "Epoch 16/300\n",
      "51/51 [==============================] - 5s 106ms/step - loss: 0.0523 - val_loss: 0.0540\n",
      "Epoch 17/300\n",
      "51/51 [==============================] - 6s 113ms/step - loss: 0.0511 - val_loss: 0.0515\n",
      "Epoch 18/300\n",
      "51/51 [==============================] - 6s 109ms/step - loss: 0.0505 - val_loss: 0.0528\n",
      "Epoch 19/300\n",
      "51/51 [==============================] - 6s 111ms/step - loss: 0.0503 - val_loss: 0.0523\n",
      "Epoch 20/300\n",
      "51/51 [==============================] - 6s 122ms/step - loss: 0.0503 - val_loss: 0.0516\n",
      "Epoch 21/300\n",
      "51/51 [==============================] - 6s 111ms/step - loss: 0.0511 - val_loss: 0.0502\n",
      "Epoch 22/300\n",
      "51/51 [==============================] - 6s 111ms/step - loss: 0.0496 - val_loss: 0.0519\n",
      "Epoch 23/300\n",
      "51/51 [==============================] - 6s 111ms/step - loss: 0.0498 - val_loss: 0.0500\n",
      "Epoch 24/300\n",
      "51/51 [==============================] - 6s 111ms/step - loss: 0.0492 - val_loss: 0.0499\n",
      "Epoch 25/300\n",
      "51/51 [==============================] - 6s 125ms/step - loss: 0.0480 - val_loss: 0.0491\n",
      "Epoch 26/300\n",
      "51/51 [==============================] - 6s 125ms/step - loss: 0.0477 - val_loss: 0.0472\n",
      "Epoch 27/300\n",
      "51/51 [==============================] - 6s 123ms/step - loss: 0.0472 - val_loss: 0.0464\n",
      "Epoch 28/300\n",
      "51/51 [==============================] - 6s 126ms/step - loss: 0.0473 - val_loss: 0.0466\n",
      "Epoch 29/300\n",
      "51/51 [==============================] - 6s 125ms/step - loss: 0.0467 - val_loss: 0.0468\n",
      "Epoch 30/300\n",
      "51/51 [==============================] - 6s 126ms/step - loss: 0.0466 - val_loss: 0.0465\n",
      "Epoch 31/300\n",
      "51/51 [==============================] - 6s 123ms/step - loss: 0.0456 - val_loss: 0.0469\n",
      "Epoch 32/300\n",
      "51/51 [==============================] - 6s 112ms/step - loss: 0.0463 - val_loss: 0.0459\n",
      "Epoch 33/300\n",
      "51/51 [==============================] - 6s 115ms/step - loss: 0.0459 - val_loss: 0.0477\n",
      "Epoch 34/300\n",
      "51/51 [==============================] - 6s 116ms/step - loss: 0.0452 - val_loss: 0.0486\n",
      "Epoch 35/300\n",
      "51/51 [==============================] - 6s 116ms/step - loss: 0.0460 - val_loss: 0.0471\n",
      "Epoch 36/300\n",
      "51/51 [==============================] - 6s 116ms/step - loss: 0.0453 - val_loss: 0.0454\n",
      "Epoch 37/300\n",
      "51/51 [==============================] - 6s 116ms/step - loss: 0.0447 - val_loss: 0.0458\n",
      "Epoch 38/300\n",
      "51/51 [==============================] - 6s 112ms/step - loss: 0.0441 - val_loss: 0.0458\n",
      "Epoch 39/300\n",
      "51/51 [==============================] - 6s 115ms/step - loss: 0.0441 - val_loss: 0.0457\n",
      "Epoch 40/300\n",
      "51/51 [==============================] - 6s 117ms/step - loss: 0.0431 - val_loss: 0.0447\n",
      "Epoch 41/300\n",
      "51/51 [==============================] - 6s 117ms/step - loss: 0.0437 - val_loss: 0.0432\n",
      "Epoch 42/300\n",
      "51/51 [==============================] - 6s 112ms/step - loss: 0.0434 - val_loss: 0.0432\n",
      "Epoch 43/300\n",
      "51/51 [==============================] - 6s 116ms/step - loss: 0.0435 - val_loss: 0.0437\n",
      "Epoch 44/300\n",
      "51/51 [==============================] - 6s 113ms/step - loss: 0.0429 - val_loss: 0.0439\n",
      "Epoch 45/300\n",
      "51/51 [==============================] - 6s 112ms/step - loss: 0.0427 - val_loss: 0.0433\n",
      "Epoch 46/300\n",
      "51/51 [==============================] - 6s 114ms/step - loss: 0.0430 - val_loss: 0.0441\n",
      "Epoch 47/300\n",
      "51/51 [==============================] - 6s 112ms/step - loss: 0.0416 - val_loss: 0.0424\n",
      "Epoch 48/300\n",
      "51/51 [==============================] - 6s 111ms/step - loss: 0.0412 - val_loss: 0.0421\n",
      "Epoch 49/300\n",
      "51/51 [==============================] - 6s 110ms/step - loss: 0.0412 - val_loss: 0.0422\n",
      "Epoch 50/300\n",
      "51/51 [==============================] - 6s 111ms/step - loss: 0.0409 - val_loss: 0.0423\n",
      "Epoch 51/300\n",
      "51/51 [==============================] - 6s 111ms/step - loss: 0.0407 - val_loss: 0.0420\n",
      "Epoch 52/300\n",
      "51/51 [==============================] - 6s 117ms/step - loss: 0.0408 - val_loss: 0.0422\n",
      "Epoch 53/300\n",
      "51/51 [==============================] - 6s 110ms/step - loss: 0.0408 - val_loss: 0.0426\n",
      "Epoch 54/300\n",
      "51/51 [==============================] - 6s 110ms/step - loss: 0.0408 - val_loss: 0.0421\n",
      "Epoch 55/300\n",
      "51/51 [==============================] - 6s 119ms/step - loss: 0.0406 - val_loss: 0.0421\n",
      "Epoch 56/300\n",
      "51/51 [==============================] - 6s 114ms/step - loss: 0.0406 - val_loss: 0.0421\n",
      "Epoch 57/300\n",
      "51/51 [==============================] - 6s 126ms/step - loss: 0.0406 - val_loss: 0.0421\n",
      "Epoch 58/300\n",
      "51/51 [==============================] - 6s 116ms/step - loss: 0.0407 - val_loss: 0.0420\n",
      "Epoch 59/300\n",
      "51/51 [==============================] - 6s 114ms/step - loss: 0.0404 - val_loss: 0.0421\n",
      "Epoch 60/300\n",
      "51/51 [==============================] - 6s 112ms/step - loss: 0.0404 - val_loss: 0.0421\n",
      "Epoch 61/300\n",
      "51/51 [==============================] - 6s 111ms/step - loss: 0.0402 - val_loss: 0.0421\n",
      "WQ.shape (None, 5, 4)\n",
      "K.permute_dimensions(WK, [0, 2, 1]).shape (None, 4, 5)\n",
      "QK.shape (None, 5, 5)\n"
     ]
    }
   ],
   "source": [
    "from keras.callbacks import EarlyStopping\n",
    "from keras.callbacks import ReduceLROnPlateau\n",
    "lr_reducer = ReduceLROnPlateau(monitor=\"val_loss\",\n",
    "                               factor=0.1,\n",
    "                                cooldown= 0,\n",
    "                                patience= 5,\n",
    "                                min_lr=0.1e-7)\n",
    "early_stopping_monitor = EarlyStopping(monitor= 'val_loss', patience = 10) #10  17.20 1.32\n",
    "callbacks = [lr_reducer, early_stopping_monitor]\n",
    "\n",
    "\n",
    "\n",
    "\n",
    "model = get_model()\n",
    "history=model.fit([train_x,train_physics], train_y, epochs=300, batch_size=256,  \n",
    "            validation_split=0.1, callbacks=callbacks)  #256 ,train_physics  ,test_physics ,train_physics\n",
    "\n",
    "pred_train_all = model.predict([train_x,train_physics]).ravel()\n",
    "pred_test_all = model.predict([test_x,test_physics]).ravel()  ##ravel() 转换成1列\n",
    "\n",
    "\n",
    "#pred_valid_all = scaler_seq.inverse_transform(pred_valid_all)\n",
    "#reverse_valid = scaler_seq.inverse_transform(y_valid)\n",
    "#pred_test_all = scaler_seq.inverse_transform(pred_test_all)\n",
    "#reverse_test = scaler_seq.inverse_transform(y_test)"
   ]
  },
  {
   "cell_type": "code",
   "execution_count": 19,
   "metadata": {},
   "outputs": [
    {
     "data": {
      "text/plain": [
       "Text(0, 0.5, 'Loss')"
      ]
     },
     "execution_count": 19,
     "metadata": {},
     "output_type": "execute_result"
    },
    {
     "data": {
      "image/png": "[encoded data removed]",
      "text/plain": [
       "<Figure size 576x432 with 1 Axes>"
      ]
     },
     "metadata": {
      "needs_background": "light"
     },
     "output_type": "display_data"
    }
   ],
   "source": [
    "from matplotlib.pyplot import plot,savefig\n",
    "loss = history.history['loss']\n",
    "val_loss = history.history['val_loss']\n",
    "epoch = range(1,len(loss)+1)\n",
    "plt.figure(figsize=(8, 6))\n",
    "\n",
    "#plt.semilogy(epoch,loss, color=\"red\",label='Training loss')\n",
    "#plt.semilogy(epoch, val_loss,color=\"blue\", label='Validation loss')\n",
    "\n",
    "plt.plot(epoch,loss, color=\"red\",label='Training loss')\n",
    "plt.plot(epoch, val_loss,color=\"blue\", label='Validation loss')\n",
    "\n",
    "\n",
    "plt.legend()\n",
    "plt.title('Training and validation loss')\n",
    "plt.xlabel('Epochs')\n",
    "plt.ylabel('Loss')"
   ]
  },
  {
   "cell_type": "code",
   "execution_count": 20,
   "metadata": {},
   "outputs": [
    {
     "name": "stdout",
     "output_type": "stream",
     "text": [
      "(61, 1)\n",
      "(61, 1)\n",
      "(61, 1)\n",
      "(61, 3)\n"
     ]
    }
   ],
   "source": [
    "loss=np.array(loss)\n",
    "val_loss=np.array(val_loss)\n",
    "epoch=np.array(epoch)\n",
    "\n",
    "loss=loss.reshape(loss.shape[0],1)\n",
    "val_loss=val_loss.reshape(val_loss.shape[0],1)\n",
    "epoch=epoch.reshape(epoch.shape[0],1)\n",
    "\n",
    "loss_zong=np.concatenate((epoch,loss,val_loss),axis=1)\n",
    "\n",
    "\n",
    "print(epoch.shape)\n",
    "print(val_loss.shape)\n",
    "print(loss.shape)\n",
    "print(loss_zong.shape)\n",
    "\n",
    "data_loss = pd.DataFrame(loss_zong) #将数组转换为dataframe结构\n",
    "data_loss.columns=['epoch','loss','val_loss']\n",
    "writer_loss = pd.ExcelWriter(r'\\PGAloss3.xls')   # 写入Excel文件\n",
    "\n",
    "data_loss.to_excel(writer_loss,float_format='%.5f',index=False)   ## ‘page_1’是写入excel的sheet名\n",
    "writer_loss.save()\n",
    "writer_loss.close()"
   ]
  },
  {
   "cell_type": "code",
   "execution_count": null,
   "metadata": {},
   "outputs": [],
   "source": []
  },
  {
   "cell_type": "code",
   "execution_count": 19,
   "metadata": {
    "scrolled": true
   },
   "outputs": [
    {
     "name": "stdout",
     "output_type": "stream",
     "text": [
      "训练标准差STD= 0.19895785225098994\n",
      "训练误差均值MEAN= 0.0016537098141997852\n",
      "训练平均绝对误差MAE= 0.1544875551277503\n",
      "训练RMSE= 0.19896472483452016\n",
      "训练MAPE= 24.879529970406054\n",
      "训练r2 score: 0.7869434899231467\n"
     ]
    },
    {
     "data": {
      "image/png": "[encoded data removed]",
      "text/plain": [
       "<Figure size 360x360 with 1 Axes>"
      ]
     },
     "metadata": {
      "needs_background": "light"
     },
     "output_type": "display_data"
    }
   ],
   "source": [
    "from sklearn import metrics\n",
    "from sklearn.metrics import r2_score\n",
    "print(\"训练标准差STD=\",np.std(pred_train_all-train_y.ravel()))\n",
    "print(\"训练误差均值MEAN=\",np.mean(pred_train_all-train_y.ravel()))\n",
    "print(\"训练平均绝对误差MAE=\",metrics.mean_absolute_error(pred_train_all, train_y.ravel()))\n",
    "print(\"训练RMSE=\",metrics.mean_squared_error(pred_train_all, train_y.ravel())**0.5)\n",
    "print(\"训练MAPE=\",np.mean(np.abs((train_y.ravel() - pred_train_all) / train_y.ravel())) * 100)\n",
    "print(\"训练r2 score:\", r2_score(train_y.ravel(), pred_train_all))\n",
    "\n",
    "\n",
    "plt.figure(figsize=(5, 5))\n",
    "plt.axis('equal')\n",
    "\n",
    "x3 = np.arange(-2, 5, 0.01)\n",
    "y3=x3\n",
    "plt.plot(x3, y3, \"black\")\n",
    "plt.plot(train_y.ravel(),pred_train_all,'.')\n",
    "plt.xlim(-2, 5)\n",
    "plt.ylim(-2, 5)\n",
    "plt.show()"
   ]
  },
  {
   "cell_type": "code",
   "execution_count": 20,
   "metadata": {},
   "outputs": [
    {
     "name": "stdout",
     "output_type": "stream",
     "text": [
      "(14453, 1)\n",
      "(14453, 1)\n",
      "(14453, 2)\n"
     ]
    }
   ],
   "source": [
    "#########################保存训练结果####################################\n",
    "pred_train_all=pred_train_all.reshape(pred_train_all.shape[0],1)\n",
    "\n",
    "#y_score_tr=y_score_tr.reshape(y_score_tr.shape[0],1)\n",
    "print(pred_train_all.shape)\n",
    "print(train_y.shape)\n",
    "\n",
    "tr_result=np.concatenate((train_y,pred_train_all),axis=1)\n",
    "\n",
    "print(tr_result.shape)\n",
    "\n",
    "data_tr = pd.DataFrame(tr_result) #将数组转换为dataframe结构\n",
    "data_tr.columns=['实际PGA','预测PGA']\n",
    "writer_tr = pd.ExcelWriter(r'\\PGAtrain3.xls')   # 写入Excel文件\n",
    "\n",
    "data_tr.to_excel(writer_tr,float_format='%.5f',index=False)   ## ‘page_1’是写入excel的sheet名\n",
    "writer_tr.save()\n",
    "writer_tr.close()\n",
    "#########################保存训练结果####################################"
   ]
  },
  {
   "cell_type": "code",
   "execution_count": 21,
   "metadata": {},
   "outputs": [
    {
     "name": "stdout",
     "output_type": "stream",
     "text": [
      "测试标准差STD= 0.20473884183269145\n",
      "测试误差均值MEAN= -0.002585534049643638\n",
      "测试平均绝对误差MAE= 0.15816692909977095\n",
      "测试RMSE= 0.20475516682446307\n",
      "测试MAPE= 64.53976457675776\n",
      "测试r2 score: 0.7823098939077431\n"
     ]
    },
    {
     "data": {
      "image/png": "[encoded data removed]",
      "text/plain": [
       "<Figure size 360x360 with 1 Axes>"
      ]
     },
     "metadata": {
      "needs_background": "light"
     },
     "output_type": "display_data"
    }
   ],
   "source": [
    "print(\"测试标准差STD=\",np.std(pred_test_all-test_y.ravel()))\n",
    "print(\"测试误差均值MEAN=\",np.mean(pred_test_all-test_y.ravel()))\n",
    "print(\"测试平均绝对误差MAE=\",metrics.mean_absolute_error(pred_test_all, test_y.ravel()))\n",
    "print(\"测试RMSE=\",metrics.mean_squared_error(pred_test_all, test_y.ravel())**0.5)\n",
    "print(\"测试MAPE=\",np.mean(np.abs((test_y.ravel() - pred_test_all) / test_y.ravel())) * 100)\n",
    "print(\"测试r2 score:\", r2_score(test_y.ravel(), pred_test_all))\n",
    "\n",
    "\n",
    "plt.figure(figsize=(5, 5))\n",
    "plt.axis('equal')\n",
    "\n",
    "x3 = np.arange(-2, 5, 0.01)\n",
    "y3=x3\n",
    "plt.plot(x3, y3, \"black\")\n",
    "plt.plot(test_y.ravel(),pred_test_all,'.')\n",
    "plt.xlim(-2, 5)\n",
    "plt.ylim(-2, 5)\n",
    "plt.show()   "
   ]
  },
  {
   "cell_type": "code",
   "execution_count": 22,
   "metadata": {
    "scrolled": true
   },
   "outputs": [
    {
     "name": "stdout",
     "output_type": "stream",
     "text": [
      "(3614, 1)\n",
      "(3614, 1)\n",
      "(3614, 2)\n"
     ]
    }
   ],
   "source": [
    "#########################保存测试结果####################################\n",
    "pred_test_all=pred_test_all.reshape(pred_test_all.shape[0],1)\n",
    "\n",
    "print(pred_test_all.shape)\n",
    "print(test_y.shape)\n",
    "\n",
    "te_result=np.concatenate((test_y,pred_test_all),axis=1)\n",
    "\n",
    "print(te_result.shape)\n",
    "\n",
    "data_te = pd.DataFrame(te_result) #将数组转换为dataframe结构\n",
    "data_te.columns=['实际PGA','预测PGA']\n",
    "writer_te = pd.ExcelWriter(r'\\PGAtest3.xls')   # 写入Excel文件\n",
    "\n",
    "data_te.to_excel(writer_te,float_format='%.5f',index=False)   ## ‘page_1’是写入excel的sheet名\n",
    "writer_te.save()\n",
    "writer_te.close()\n",
    "#########################保存测试结果####################################"
   ]
  },
  {
   "cell_type": "code",
   "execution_count": null,
   "metadata": {},
   "outputs": [],
   "source": []
  }
 ],
 "metadata": {
  "kernelspec": {
   "display_name": "Python 3",
   "language": "python",
   "name": "python3"
  },
  "language_info": {
   "codemirror_mode": {
    "name": "ipython",
    "version": 3
   },
   "file_extension": ".py",
   "mimetype": "text/x-python",
   "name": "python",
   "nbconvert_exporter": "python",
   "pygments_lexer": "ipython3",
   "version": "3.7.0"
  }
 },
 "nbformat": 4,
 "nbformat_minor": 2
}
